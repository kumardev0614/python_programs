{
 "cells": [
  {
   "cell_type": "code",
   "execution_count": 7,
   "metadata": {},
   "outputs": [
    {
     "data": {
      "text/plain": [
       "-0.5"
      ]
     },
     "execution_count": 7,
     "metadata": {},
     "output_type": "execute_result"
    }
   ],
   "source": [
    "def avg(*arg_list):\n",
    "    avrg = 0\n",
    "    for num in arg_list:\n",
    "        avrg = avrg + num\n",
    "    return avrg/len(arg_list)\n",
    "\n",
    "avg(10,2,-6,-8)"
   ]
  },
  {
   "cell_type": "code",
   "execution_count": null,
   "metadata": {},
   "outputs": [],
   "source": []
  },
  {
   "cell_type": "code",
   "execution_count": 38,
   "metadata": {},
   "outputs": [],
   "source": [
    "class car:\n",
    "    def __init__(self, max_speed, speed_unit):\n",
    "        self.max_speed = max_speed\n",
    "        self.speed_unit = speed_unit\n",
    "    \n",
    "    def __repr__(self):\n",
    "        return \"Car with the maximum speed of \" + str(self.max_speed) + \" \" +  str(self.speed_unit)"
   ]
  },
  {
   "cell_type": "code",
   "execution_count": 39,
   "metadata": {},
   "outputs": [
    {
     "name": "stdout",
     "output_type": "stream",
     "text": [
      "Car with the maximum speed of 151 km/h\n"
     ]
    }
   ],
   "source": [
    "vehicle = car('151', 'km/h')\n",
    "print(vehicle)"
   ]
  },
  {
   "cell_type": "code",
   "execution_count": 40,
   "metadata": {},
   "outputs": [],
   "source": [
    "class boat:\n",
    "    def __init__(self, max_speed):\n",
    "        self.max_speed = max_speed\n",
    "    \n",
    "    def __repr__(self):\n",
    "        return \"Boat with the maximum speed of \" + str(self.max_speed) + \" knots\""
   ]
  },
  {
   "cell_type": "code",
   "execution_count": 41,
   "metadata": {},
   "outputs": [
    {
     "name": "stdout",
     "output_type": "stream",
     "text": [
      "Boat with the maximum speed of 77 knots\n"
     ]
    }
   ],
   "source": [
    "boat1 = boat(77)\n",
    "print(boat1)"
   ]
  },
  {
   "cell_type": "code",
   "execution_count": 33,
   "metadata": {},
   "outputs": [
    {
     "data": {
      "text/plain": [
       "'Car with the maximum speed of1365ploi'"
      ]
     },
     "execution_count": 33,
     "metadata": {},
     "output_type": "execute_result"
    }
   ],
   "source": [
    "\"Car with the maximum speed of\" + str(1365) +  str('ploi')"
   ]
  },
  {
   "cell_type": "code",
   "execution_count": null,
   "metadata": {},
   "outputs": [],
   "source": []
  }
 ],
 "metadata": {
  "kernelspec": {
   "display_name": "Python 3",
   "language": "python",
   "name": "python3"
  },
  "language_info": {
   "codemirror_mode": {
    "name": "ipython",
    "version": 3
   },
   "file_extension": ".py",
   "mimetype": "text/x-python",
   "name": "python",
   "nbconvert_exporter": "python",
   "pygments_lexer": "ipython3",
   "version": "3.7.7"
  }
 },
 "nbformat": 4,
 "nbformat_minor": 4
}
