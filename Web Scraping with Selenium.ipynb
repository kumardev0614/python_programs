{
 "cells": [
  {
   "cell_type": "code",
   "execution_count": 1,
   "metadata": {},
   "outputs": [
    {
     "name": "stderr",
     "output_type": "stream",
     "text": [
      "C:\\Users\\BabaJi\\anaconda3\\lib\\site-packages\\requests\\__init__.py:91: RequestsDependencyWarning: urllib3 (1.26.8) or chardet (3.0.4) doesn't match a supported version!\n",
      "  RequestsDependencyWarning)\n"
     ]
    }
   ],
   "source": [
    "import requests\n",
    "from selenium import webdriver"
   ]
  },
  {
   "cell_type": "code",
   "execution_count": 2,
   "metadata": {},
   "outputs": [],
   "source": [
    "example_link = 'https://insights.blackcoffer.com/coronavirus-impact-on-energy-markets/'"
   ]
  },
  {
   "cell_type": "code",
   "execution_count": 4,
   "metadata": {},
   "outputs": [
    {
     "name": "stderr",
     "output_type": "stream",
     "text": [
      "C:\\Users\\BabaJi\\anaconda3\\lib\\site-packages\\ipykernel_launcher.py:2: DeprecationWarning: executable_path has been deprecated, please pass in a Service object\n",
      "  \n"
     ]
    }
   ],
   "source": [
    "# Initalizing chrome driver to access web page using chrome. Chrome driver will open it's own Chrome Window.\n",
    "driver = webdriver.Chrome(\"E:chromedriver.exe\")"
   ]
  },
  {
   "cell_type": "code",
   "execution_count": 8,
   "metadata": {},
   "outputs": [
    {
     "name": "stderr",
     "output_type": "stream",
     "text": [
      "C:\\Users\\BabaJi\\anaconda3\\lib\\site-packages\\ipykernel_launcher.py:5: DeprecationWarning: find_elements_by_* commands are deprecated. Please use find_elements() instead\n",
      "  \"\"\"\n"
     ]
    }
   ],
   "source": [
    "# Now we will scrape all Text content from the blog link.\n",
    "# Here we already know from which div tag we have to pick or data from.\n",
    "# All the text will be saved in content variable.\n",
    "driver.get(example_link)\n",
    "content = driver.find_elements_by_tag_name(\"div.td-post-content\")"
   ]
  },
  {
   "cell_type": "code",
   "execution_count": 9,
   "metadata": {},
   "outputs": [
    {
     "data": {
      "text/plain": [
       "list"
      ]
     },
     "execution_count": 9,
     "metadata": {},
     "output_type": "execute_result"
    }
   ],
   "source": [
    "type(content)"
   ]
  },
  {
   "cell_type": "code",
   "execution_count": 10,
   "metadata": {},
   "outputs": [
    {
     "data": {
      "text/plain": [
       "[<selenium.webdriver.remote.webelement.WebElement (session=\"488e6610dd551a79052712d3c5bc8f8e\", element=\"64c23524-c233-4951-aca7-6e37fdb2dbb1\")>]"
      ]
     },
     "execution_count": 10,
     "metadata": {},
     "output_type": "execute_result"
    }
   ],
   "source": [
    "content"
   ]
  },
  {
   "cell_type": "markdown",
   "metadata": {},
   "source": [
    "We can see content is a list containing selenium.webdriver.remote.webelement object at 0th index."
   ]
  },
  {
   "cell_type": "code",
   "execution_count": 20,
   "metadata": {},
   "outputs": [
    {
     "data": {
      "text/plain": [
       "'Coronavirus impact on energy markets - Blackcoffer Insights'"
      ]
     },
     "execution_count": 20,
     "metadata": {},
     "output_type": "execute_result"
    }
   ],
   "source": [
    "# We can access blog's Title by driver itself.\n",
    "driver.title"
   ]
  },
  {
   "cell_type": "code",
   "execution_count": 21,
   "metadata": {
    "scrolled": false
   },
   "outputs": [
    {
     "name": "stdout",
     "output_type": "stream",
     "text": [
      "As the coronavirus spreads around the world and countries implement containment measures, energy supply and demand is being disrupted. The impact that country-wide lockdowns and demand slowdowns will have on energy markets will be evolving every day.\n",
      "Impact on energy markets are:\n",
      "i)Slump in wind expansion may support German power prices:\n",
      "The recent slump in German wind capacity is likely to continue this year as complicated regulations and weakness in the global economic outlook due to the coronavirus are likely to dampen investment in the renewable technology.\n",
      "This has the potential to restrict future additions to wind output, impacting supply and, in turn, supporting power prices.\n",
      "ii)Chinese industrial gas demand remains weak in March:\n",
      "Chinese natural gas demand from the industrial sector in March was down by almost 25% year on year, according to the Chongqing Gas and Petroleum Exchange released over Easter, as the impact of the coronavirus continued to weigh on consumption.\n",
      "iii)Reduced energy offtake likely to hit UK suppliers:\n",
      "A growing number of British energy suppliers could be at risk of colllapsing through reduced energy offtake and cash-flow constraints amid the coronavirus pandemic, according to industry sources polled by ICIS.\n",
      "iv)Breakdown of European power demand impact :\n",
      "Power consumption continued to soften across key European demand centres through March and the first week of April, while less stringent measures and colder weather has sheltered other parts of Europe.\n",
      "v)Brexit set to ensure EU 2020 renewable goals:\n",
      "While the coronavirus outbreak is already having a significant impact on the European renewables sector, one unintended consequence of the pandemic is likely to be the achievement of EU and member state binding renewable energy targets for 2020. This is due to the consequences of a prolonged downturn in demand, which will not be normalised for by the EU’s official statistics office (Eurostat), meaning that renewables look set to make up a higher share of consumption in 2020 across the EU.\n",
      "vi)Spanish prices stay bearish but premium to France to persist:\n",
      "Spanish power prices across the curve are expected to maintain a bearish trajectory throughout the nationwide coronavirus lockdown period which was recently extended until 26 April, with further extensions possible.\n",
      "Nevertheless, forecasts for below-average wind generation would support Spanish spot prices, allowing France to continue exporting power to Spain. This in turn should keep Spanish near-curve contracts at a premium to their French equivalents.\n",
      "vii)Coronavirus hits truck-loaded LNG demand:\n",
      "Market sources have indicated the coronavirus has reduced demand for truck-loaded LNG around Europe, as countries have implemented lockdown measures and low oil prices have made gas less competitive as a transport fuel.\n",
      "Data from terminals in northwest Europe shows the impact has not been as significant as originally thought.\n",
      "viii)Europe has found a coronavirus electricity demand floor:\n",
      "Electricity consumption has leveled out in Germany, France and Italy, after falling for several weeks due to restrictions aimed at stemming the spread of the coronavirus.\n",
      "But in Great Britain and Spain, demand has continued to drop week on week in recent days, according to an ICIS model that controls for the impact of temperature across Europe’s five largest consumers of electricity.\n",
      "ix)European power and carbon markets affected by COVID-19 – an early impact assessment:\n",
      "In order to assess the fundamental impact of COVID-19 on European power and carbon markets we modelled a scenario in which we accounted for the first data on dropping electricity demand as well as assumed industry production cuts and continued travel restrictions.\n",
      "x)India defers on LNG cargoes as lockdown ramps up:\n",
      "India buyers are deferring LNG cargoes as ports close operations with strict lockdowns in place. This is a concern for sellers in a long market with India one of the key buyers.\n",
      "xi)EU to reach 2020 renewables goals on coronavirus, Brexit:\n",
      "The combination of Brexit and lower demand associated with the coronavirus pandemic should enable the EU as a whole as well as many member states to reach their 2020 renewable targets, according to ICIS model run.\n",
      "xii)European power markets yet to hit coronavirus demand floor:\n",
      "European power demand will continue to drop as governments escalate measures to stem the spread of the coronavirus.\n",
      "Electricity consumption in Italy and France fell 16% below expectations over the past seven days, according to an ICIS model that controls for the impact of temperatures.\n",
      "Three other major power markets studied by ICIS – Germany, Spain and the UK – have seen smaller drops, although all are trending down.\n",
      "xiii)Virus demand hit to wipe 9% off 2020 European power prices:\n",
      "• Power demand drop likely\n",
      "• ICIS model indicates 6% drop in demand during 2020\n",
      "• Price fall of 9% across Europe\n",
      "A scenario where power demand drops one-tenth through up to June as a result of measures taken to slow the spread of the coronavirus would see power prices across European markets fall by an average 9% in 2020.\n",
      "xiv)Weather-driven NBP prompt upside possible in week 13:\n",
      "• Temperatures across NW Europe to tumble in week 14\n",
      "• British local distribution zone demand to increase\n",
      "• EAX-NBP premium gaining\n",
      "Incoming cooler weather across Britain for week 14 could encourage buying across NBP prompt and near curve contracts in the coming sessions. The drop in temperatures will likely trigger a spike in heating demand which has also increased due to large numbers of people working from home to curb the spread of the coronavirus.\n",
      "xv)Southeast Europe braced for falling demand, bankruptcies:\n",
      "Eastern European and Turkish energy companies are braced for sharp drops in demand and potential bankruptcies as countries introduce emergency measures in a bid to contain the coronavirus outbreak.\n",
      "Although the spread of the virus is not as extensive in this region as in Italy or Spain, the impact of the emergency measures that have been taken is likely to be felt acutely because national economies are fragile.\n",
      "xvi)Europe on course for sharp reduction to power demand:\n",
      "Power sector demand across key European countries is set for a major slump over the coming weeks as countries scale-up their efforts to tackle the spread of the coronavirus.\n",
      "Demand in Italy, which has been hit the hardest by the outbreak, has dropped 10% compared to its five-year average for March during the second week of its nationwide lockdown.\n",
      "As measures to tackle the spread of the virus intensifies across other European countries, a similar drop in demand can be expected, although changes are unlikely to be uniform.\n",
      "xvii)China’s city gas demand steady despite coronavirus, uncertain elsewhere:\n",
      "The impact of the coronavirus in China has reduced but gas demand will still end March well down from 2019. City-gate gas demand has been firm but the outlook for other sectors remains a concern.\n",
      "xix)European gas centres set for April demand destruction:\n",
      "• EU-wide demand crunch could follow after lockdowns intensify\n",
      "• Residential demand to see brief increase before falling on warmer temperatures\n",
      "• LNG sellers could struggle to deliver into Europe\n",
      "xx)Coronavirus effects to ripple in Mexico:\n",
      "Mexico’s economy has perhaps never been more exposed to the global supply chains and commodity markets hit by the shocks of the coronavirus and the oil price war, but its president is losing time engaging in denial and political pandering. These will not help his party’s 2021 election prospects if the country’s economic performance falls further as its currency takes a beating amid capital flight.\n",
      "xxi)China’s gas demand rebounds – satellite data:\n",
      "Emissions of nitrogen dioxide are on the rise in China. This is an indication that economic activity is rising as businesses and industry ramp up activity with the coronavirus impact subsiding.\n",
      "xxii)Spanish virus to impact LNG imports:\n",
      "Spain is home to one third of Europe’s LNG import capacity, so a lockdown has the potential to further gum up the global LNG supply chain if, as seems likely, it leads to a drop in demand for gas and a reduced ability to support scheduled imports.\n",
      "xxiii)European nuclear plant operators gear up to ensure power supply:\n",
      "European nuclear power availability is expected to remain robust with strict safety measures already being implemented by the major plant operators amid the coronavirus outbreak.\n",
      "xxiv)Bulgarian power traders call for nuclear maintenance change:\n",
      "Bulgaria’s free energy market association ASEP has called for measures to tackle national power market disruption due to the coronavirus outbreak on 16 March.\n",
      "xxv)Global market moves feed energy downside jitters:\n",
      "Heightened concerns surrounding the economic fall-out from the coronavirus is set to further weigh on European energy markets, traders say.\n",
      "xxvi)Coronavirus likely to lower trader appetite for risk:\n",
      "Widespread remote working due to the coronavirus is set to hit European natural gas and power liquidity, according to traders.\n",
      "A number of firms have already asked traders to work from home or are expected to do so.\n",
      "While some trading activities around gas and power dispatching need to be done from a trading floor, most other tasks can be done from home.\n",
      "However, traders indicated it is unlikely to be business as normal with participants increasingly risk averse away from an office environment.\n",
      "xxvii)Italian gas demand plunges on coronavirus restrictions:\n",
      "The coronavirus outbreak took a toll on Italian gas demand in week 11 as the government extended nationwide restrictions against the spread of the virus.\n",
      "If restrictions continue, demand and gas prices are likely to fall further as warmer temperatures follow spring, pressuring consumption for heating. Power prices are also expected to plunge on the back of weaker gas. Gas is Italy’s main source for power generation and the marginal fuel, therefore a price maker for Italian power.\n",
      "xxviii)Expect weakness in Chinese summer gas demand:\n",
      "• Coronavirus impact on LPG to worsen\n",
      "• China’s big three will have sought some LNG volume deferrals as another means by which to deal with the mounting oversupply\n",
      "• Incremental demand for gas and LNG this summer will be unusually low\n",
      "xxix)Coronavirus fails to pull down Italian power demand significantly:\n",
      "The Italian wholesale electricity market has so far avoided major losses following the outbreak of the Coronavirus in the country, the strongest so far across Europe.\n",
      "Blackcoffer Insights 17:- Harsh Arya, Ajay Kumar Garg Engineering College(UP)\n"
     ]
    }
   ],
   "source": [
    "# accessing blog text\n",
    "print(content[0].text)"
   ]
  },
  {
   "cell_type": "code",
   "execution_count": null,
   "metadata": {},
   "outputs": [],
   "source": []
  }
 ],
 "metadata": {
  "kernelspec": {
   "display_name": "Python 3",
   "language": "python",
   "name": "python3"
  },
  "language_info": {
   "codemirror_mode": {
    "name": "ipython",
    "version": 3
   },
   "file_extension": ".py",
   "mimetype": "text/x-python",
   "name": "python",
   "nbconvert_exporter": "python",
   "pygments_lexer": "ipython3",
   "version": "3.7.7"
  }
 },
 "nbformat": 4,
 "nbformat_minor": 4
}
