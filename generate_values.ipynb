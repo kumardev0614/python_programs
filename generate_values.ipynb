{
 "cells": [
  {
   "cell_type": "code",
   "execution_count": 1,
   "metadata": {},
   "outputs": [],
   "source": [
    "vals = {\"p\":range(2,8),\n",
    "        \"q\":range(2,8),\n",
    "        \"a\":(-15,-14,-13,-12,-11,-10,-9,-8,-7,-6,-5,-4,-3,-2,-1,2,3,4,5,6,7,8,9,10,11,12,13,14,15),\n",
    "        \"b\":(-15,-14,-13,-12,-11,-10,-9,-8,-7,-6,-5,-4,-3,-2,-1,2,3,4,5,6,7,8,9,10,11,12,13,14,15),\n",
    "        \"c\":(-15,-14,-13,-12,-11,-10,-9,-8,-7,-6,-5,-4,-3,-2,-1,2,3,4,5,6,7,8,9,10,11,12,13,14,15),\n",
    "        \"d\":(-15,-14,-13,-12,-11,-10,-9,-8,-7,-6,-5,-4,-3,-2,-1,2,3,4,5,6,7,8,9,10,11,12,13,14,15),\n",
    "        \"e\":(-15,-14,-13,-12,-11,-10,-9,-8,-7,-6,-5,-4,-3,-2,-1,2,3,4,5,6,7,8,9,10,11,12,13,14,15),\n",
    "        \"f\":(-15,-14,-13,-12,-11,-10,-9,-8,-7,-6,-5,-4,-3,-2,-1,2,3,4,5,6,7,8,9,10,11,12,13,14,15)\n",
    "       }"
   ]
  },
  {
   "cell_type": "code",
   "execution_count": 19,
   "metadata": {},
   "outputs": [],
   "source": [
    "import random as r"
   ]
  },
  {
   "cell_type": "code",
   "execution_count": 67,
   "metadata": {},
   "outputs": [],
   "source": [
    "def generate_vals(v):\n",
    "    return {\"p\":r.choice(v[\"p\"]),\n",
    "            \"q\":r.choice(v[\"q\"]),\n",
    "            \"a\":r.choice(v[\"a\"]),\n",
    "            \"b\":r.choice(v[\"b\"]),\n",
    "            \"c\":r.choice(v[\"c\"]),\n",
    "            \"d\":r.choice(v[\"d\"]),\n",
    "            \"e\":r.choice(v[\"e\"]),\n",
    "            \"f\":r.choice(v[\"f\"])\n",
    "           }"
   ]
  },
  {
   "cell_type": "code",
   "execution_count": 68,
   "metadata": {},
   "outputs": [
    {
     "data": {
      "text/plain": [
       "{'p': 7, 'q': 5, 'a': -2, 'b': -3, 'c': 1, 'd': 5, 'e': 6, 'f': 6}"
      ]
     },
     "execution_count": 68,
     "metadata": {},
     "output_type": "execute_result"
    }
   ],
   "source": [
    "generate_vals(vals)"
   ]
  },
  {
   "cell_type": "code",
   "execution_count": 100,
   "metadata": {
    "scrolled": false
   },
   "outputs": [
    {
     "name": "stdout",
     "output_type": "stream",
     "text": [
      "i =  10\n",
      "added {'p': 7, 'q': 7, 'a': -13, 'b': 6, 'c': -8, 'd': 10, 'e': -15, 'f': -12}\n",
      "7 7 ^-13+6--8= 1\n",
      "*************************************\n",
      "i =  22\n",
      "added {'p': 3, 'q': 2, 'a': -12, 'b': 3, 'c': -13, 'd': 12, 'e': 12, 'f': 10}\n",
      "81 3 ^-12+3--13= 4\n",
      "*************************************\n",
      "i =  33\n",
      "added {'p': 5, 'q': 6, 'a': -2, 'b': 2, 'c': -1, 'd': 11, 'e': -15, 'f': -13}\n",
      "5 5 ^-2+2--1= 1\n",
      "*************************************\n",
      "i =  39\n",
      "added {'p': 7, 'q': 5, 'a': 2, 'b': -13, 'c': -12, 'd': -2, 'e': 15, 'f': 3}\n",
      "7 7 ^2+-13--12= 1\n",
      "*************************************\n",
      "i =  48\n",
      "added {'p': 3, 'q': 7, 'a': 11, 'b': -10, 'c': -1, 'd': -7, 'e': 2, 'f': -13}\n",
      "9 3 ^11+-10--1= 2\n",
      "*************************************\n",
      "i =  51\n",
      "added {'p': 2, 'q': 2, 'a': 7, 'b': -6, 'c': -2, 'd': -3, 'e': 11, 'f': -10}\n",
      "8 2 ^7+-6--2= 3\n",
      "*************************************\n",
      "i =  83\n",
      "added {'p': 6, 'q': 4, 'a': 15, 'b': -15, 'c': -1, 'd': 8, 'e': -2, 'f': 5}\n",
      "6 6 ^15+-15--1= 1\n",
      "*************************************\n",
      "i =  86\n",
      "added {'p': 2, 'q': 3, 'a': 5, 'b': 8, 'c': 9, 'd': 5, 'e': 7, 'f': 4}\n",
      "16 2 ^5+8-9= 4\n",
      "*************************************\n",
      "i =  120\n",
      "added {'p': 6, 'q': 7, 'a': 5, 'b': -10, 'c': -8, 'd': -6, 'e': 15, 'f': -6}\n",
      "216 6 ^5+-10--8= 3\n",
      "*************************************\n",
      "i =  137\n",
      "added {'p': 2, 'q': 2, 'a': -7, 'b': 5, 'c': -11, 'd': 7, 'e': -3, 'f': -9}\n",
      "512 2 ^-7+5--11= 9\n",
      "*************************************\n",
      "i =  195\n",
      "added {'p': 2, 'q': 7, 'a': 8, 'b': 5, 'c': 8, 'd': -11, 'e': 10, 'f': -4}\n",
      "32 2 ^8+5-8= 5\n",
      "*************************************\n",
      "i =  200\n",
      "added {'p': 3, 'q': 7, 'a': 6, 'b': -12, 'c': -10, 'd': 15, 'e': 8, 'f': -9}\n",
      "81 3 ^6+-12--10= 4\n",
      "*************************************\n",
      "i =  209\n",
      "added {'p': 3, 'q': 2, 'a': 7, 'b': -9, 'c': -7, 'd': 15, 'e': 4, 'f': -7}\n",
      "243 3 ^7+-9--7= 5\n",
      "*************************************\n",
      "i =  288\n",
      "added {'p': 7, 'q': 2, 'a': 2, 'b': -7, 'c': -6, 'd': -15, 'e': 15, 'f': -14}\n",
      "7 7 ^2+-7--6= 1\n",
      "*************************************\n",
      "i =  322\n",
      "added {'p': 3, 'q': 4, 'a': -4, 'b': -7, 'c': -13, 'd': -1, 'e': 12, 'f': 5}\n",
      "9 3 ^-4+-7--13= 2\n",
      "*************************************\n",
      "i =  355\n",
      "added {'p': 2, 'q': 7, 'a': 15, 'b': -15, 'c': -4, 'd': -6, 'e': 6, 'f': -15}\n",
      "16 2 ^15+-15--4= 4\n",
      "*************************************\n",
      "i =  372\n",
      "added {'p': 3, 'q': 4, 'a': -10, 'b': 11, 'c': -4, 'd': 15, 'e': -6, 'f': 4}\n",
      "243 3 ^-10+11--4= 5\n",
      "*************************************\n",
      "i =  375\n",
      "added {'p': 4, 'q': 7, 'a': 11, 'b': -5, 'c': 5, 'd': 15, 'e': 4, 'f': 12}\n",
      "4 4 ^11+-5-5= 1\n",
      "*************************************\n",
      "i =  384\n",
      "added {'p': 2, 'q': 5, 'a': -4, 'b': 8, 'c': -4, 'd': 13, 'e': -2, 'f': 6}\n",
      "256 2 ^-4+8--4= 8\n",
      "*************************************\n",
      "i =  402\n",
      "added {'p': 6, 'q': 4, 'a': -1, 'b': -10, 'c': -12, 'd': 2, 'e': 4, 'f': -2}\n",
      "6 6 ^-1+-10--12= 1\n",
      "*************************************\n",
      "i =  403\n",
      "added {'p': 7, 'q': 6, 'a': 2, 'b': -9, 'c': -10, 'd': 15, 'e': 11, 'f': 8}\n",
      "343 7 ^2+-9--10= 3\n",
      "*************************************\n",
      "i =  438\n",
      "added {'p': 3, 'q': 3, 'a': 14, 'b': -10, 'c': 2, 'd': 8, 'e': 12, 'f': 5}\n",
      "9 3 ^14+-10-2= 2\n",
      "*************************************\n",
      "i =  493\n",
      "added {'p': 7, 'q': 6, 'a': -5, 'b': 13, 'c': 7, 'd': 7, 'e': 10, 'f': -15}\n",
      "7 7 ^-5+13-7= 1\n",
      "*************************************\n"
     ]
    }
   ],
   "source": [
    "final_list = []\n",
    "for i in range(500):\n",
    "    p = generate_vals(vals)\n",
    "\n",
    "    if (3 < p['p']**(p['a'] + p['b'] - p['c'])) \\\n",
    "        and (p['p']**(p['a'] + p['b'] - p['c']) < 513)\\\n",
    "        and (3 < p['q']**(p['d'] + p['e'] - p['f']))\\\n",
    "        and (p['q']**(p['d'] + p['e'] - p['f'] < 513)):\n",
    "        final_list.append(p)\n",
    "        print('i = ', i)\n",
    "        print(\"added\", p)\n",
    "        print(\"p={}\".format(4,3))\n",
    "        print(\"*************************************\")"
   ]
  },
  {
   "cell_type": "code",
   "execution_count": 101,
   "metadata": {},
   "outputs": [
    {
     "data": {
      "text/plain": [
       "[{'p': 7, 'q': 7, 'a': -13, 'b': 6, 'c': -8, 'd': 10, 'e': -15, 'f': -12},\n",
       " {'p': 3, 'q': 2, 'a': -12, 'b': 3, 'c': -13, 'd': 12, 'e': 12, 'f': 10},\n",
       " {'p': 5, 'q': 6, 'a': -2, 'b': 2, 'c': -1, 'd': 11, 'e': -15, 'f': -13},\n",
       " {'p': 7, 'q': 5, 'a': 2, 'b': -13, 'c': -12, 'd': -2, 'e': 15, 'f': 3},\n",
       " {'p': 3, 'q': 7, 'a': 11, 'b': -10, 'c': -1, 'd': -7, 'e': 2, 'f': -13},\n",
       " {'p': 2, 'q': 2, 'a': 7, 'b': -6, 'c': -2, 'd': -3, 'e': 11, 'f': -10},\n",
       " {'p': 6, 'q': 4, 'a': 15, 'b': -15, 'c': -1, 'd': 8, 'e': -2, 'f': 5},\n",
       " {'p': 2, 'q': 3, 'a': 5, 'b': 8, 'c': 9, 'd': 5, 'e': 7, 'f': 4},\n",
       " {'p': 6, 'q': 7, 'a': 5, 'b': -10, 'c': -8, 'd': -6, 'e': 15, 'f': -6},\n",
       " {'p': 2, 'q': 2, 'a': -7, 'b': 5, 'c': -11, 'd': 7, 'e': -3, 'f': -9},\n",
       " {'p': 2, 'q': 7, 'a': 8, 'b': 5, 'c': 8, 'd': -11, 'e': 10, 'f': -4},\n",
       " {'p': 3, 'q': 7, 'a': 6, 'b': -12, 'c': -10, 'd': 15, 'e': 8, 'f': -9},\n",
       " {'p': 3, 'q': 2, 'a': 7, 'b': -9, 'c': -7, 'd': 15, 'e': 4, 'f': -7},\n",
       " {'p': 7, 'q': 2, 'a': 2, 'b': -7, 'c': -6, 'd': -15, 'e': 15, 'f': -14},\n",
       " {'p': 3, 'q': 4, 'a': -4, 'b': -7, 'c': -13, 'd': -1, 'e': 12, 'f': 5},\n",
       " {'p': 2, 'q': 7, 'a': 15, 'b': -15, 'c': -4, 'd': -6, 'e': 6, 'f': -15},\n",
       " {'p': 3, 'q': 4, 'a': -10, 'b': 11, 'c': -4, 'd': 15, 'e': -6, 'f': 4},\n",
       " {'p': 4, 'q': 7, 'a': 11, 'b': -5, 'c': 5, 'd': 15, 'e': 4, 'f': 12},\n",
       " {'p': 2, 'q': 5, 'a': -4, 'b': 8, 'c': -4, 'd': 13, 'e': -2, 'f': 6},\n",
       " {'p': 6, 'q': 4, 'a': -1, 'b': -10, 'c': -12, 'd': 2, 'e': 4, 'f': -2},\n",
       " {'p': 7, 'q': 6, 'a': 2, 'b': -9, 'c': -10, 'd': 15, 'e': 11, 'f': 8},\n",
       " {'p': 3, 'q': 3, 'a': 14, 'b': -10, 'c': 2, 'd': 8, 'e': 12, 'f': 5},\n",
       " {'p': 7, 'q': 6, 'a': -5, 'b': 13, 'c': 7, 'd': 7, 'e': 10, 'f': -15}]"
      ]
     },
     "execution_count": 101,
     "metadata": {},
     "output_type": "execute_result"
    }
   ],
   "source": [
    "final_list"
   ]
  },
  {
   "cell_type": "code",
   "execution_count": 2,
   "metadata": {},
   "outputs": [
    {
     "name": "stdout",
     "output_type": "stream",
     "text": [
      "hellow 4 ji 3\n"
     ]
    }
   ],
   "source": [
    "print(\"hellow {} ji {}\".format(4,3))"
   ]
  },
  {
   "cell_type": "code",
   "execution_count": 4,
   "metadata": {},
   "outputs": [
    {
     "data": {
      "text/latex": [
       "$x_0$"
      ],
      "text/plain": [
       "<IPython.core.display.Latex object>"
      ]
     },
     "metadata": {},
     "output_type": "display_data"
    },
    {
     "data": {
      "text/latex": [
       "$x_1$"
      ],
      "text/plain": [
       "<IPython.core.display.Latex object>"
      ]
     },
     "metadata": {},
     "output_type": "display_data"
    },
    {
     "data": {
      "text/latex": [
       "$x_2$"
      ],
      "text/plain": [
       "<IPython.core.display.Latex object>"
      ]
     },
     "metadata": {},
     "output_type": "display_data"
    }
   ],
   "source": [
    "from IPython.display import display, Latex\n",
    "for i in range(3):\n",
    "    display(Latex(f'$x_{i}$'))"
   ]
  },
  {
   "cell_type": "code",
   "execution_count": 17,
   "metadata": {},
   "outputs": [
    {
     "data": {
      "text/latex": [
       "$p^6 + q^9$"
      ],
      "text/plain": [
       "<IPython.core.display.Latex object>"
      ]
     },
     "metadata": {},
     "output_type": "display_data"
    }
   ],
   "source": [
    "display(Latex(f'$p^{3+3} + q^{9}$'))"
   ]
  },
  {
   "cell_type": "code",
   "execution_count": 20,
   "metadata": {},
   "outputs": [
    {
     "ename": "TypeError",
     "evalue": "text() missing 2 required positional arguments: 'y' and 's'",
     "output_type": "error",
     "traceback": [
      "\u001b[1;31m---------------------------------------------------------------------------\u001b[0m",
      "\u001b[1;31mTypeError\u001b[0m                                 Traceback (most recent call last)",
      "\u001b[1;32m<ipython-input-20-6a3646a1c8f8>\u001b[0m in \u001b[0;36m<module>\u001b[1;34m\u001b[0m\n\u001b[0;32m      2\u001b[0m \u001b[0ma\u001b[0m \u001b[1;33m=\u001b[0m \u001b[1;34m'\\\\frac{a}{b}'\u001b[0m  \u001b[1;31m#notice escaped slash\u001b[0m\u001b[1;33m\u001b[0m\u001b[1;33m\u001b[0m\u001b[0m\n\u001b[0;32m      3\u001b[0m \u001b[0mplt\u001b[0m\u001b[1;33m.\u001b[0m\u001b[0mplot\u001b[0m\u001b[1;33m(\u001b[0m\u001b[1;33m)\u001b[0m\u001b[1;33m\u001b[0m\u001b[1;33m\u001b[0m\u001b[0m\n\u001b[1;32m----> 4\u001b[1;33m \u001b[0mplt\u001b[0m\u001b[1;33m.\u001b[0m\u001b[0mtext\u001b[0m\u001b[1;33m(\u001b[0m\u001b[1;34m'$%s$'\u001b[0m\u001b[1;33m%\u001b[0m\u001b[0ma\u001b[0m\u001b[1;33m)\u001b[0m\u001b[1;33m\u001b[0m\u001b[1;33m\u001b[0m\u001b[0m\n\u001b[0m",
      "\u001b[1;31mTypeError\u001b[0m: text() missing 2 required positional arguments: 'y' and 's'"
     ]
    },
    {
     "data": {
      "image/png": "[encoded data removed]",
      "text/plain": [
       "<Figure size 432x288 with 1 Axes>"
      ]
     },
     "metadata": {
      "needs_background": "light"
     },
     "output_type": "display_data"
    }
   ],
   "source": [
    "import matplotlib.pyplot as plt\n",
    "a = '\\\\frac{a}{b}'  #notice escaped slash\n",
    "plt.plot()\n",
    "plt.text('$%s$'%a)"
   ]
  },
  {
   "cell_type": "code",
   "execution_count": null,
   "metadata": {},
   "outputs": [],
   "source": []
  }
 ],
 "metadata": {
  "kernelspec": {
   "display_name": "Python 3",
   "language": "python",
   "name": "python3"
  },
  "language_info": {
   "codemirror_mode": {
    "name": "ipython",
    "version": 3
   },
   "file_extension": ".py",
   "mimetype": "text/x-python",
   "name": "python",
   "nbconvert_exporter": "python",
   "pygments_lexer": "ipython3",
   "version": "3.7.7"
  }
 },
 "nbformat": 4,
 "nbformat_minor": 4
}
